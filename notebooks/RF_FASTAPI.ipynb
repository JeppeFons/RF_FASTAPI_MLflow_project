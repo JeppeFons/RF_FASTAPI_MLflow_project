{
 "cells": [
  {
   "cell_type": "code",
   "execution_count": null,
   "id": "3a2953f4",
   "metadata": {},
   "outputs": [],
   "source": [
    "import joblib\n",
    "\n",
    "# Gem modellen\n",
    "joblib.dump(final_rf, \"rf_model.pkl\")\n"
   ]
  },
  {
   "cell_type": "markdown",
   "id": "e0cba79c",
   "metadata": {},
   "source": [
    "pip install fastapi uvicorn scikit-learn pandas joblib\n"
   ]
  },
  {
   "cell_type": "code",
   "execution_count": null,
   "id": "8b0f3450",
   "metadata": {},
   "outputs": [],
   "source": [
    "# main.py\n",
    "from fastapi import FastAPI\n",
    "from pydantic import BaseModel\n",
    "import joblib\n",
    "import numpy as np\n",
    "\n",
    "# Indlæs den gemte model\n",
    "model = joblib.load(\"rf_model.pkl\")\n",
    "\n",
    "# Initialiser FastAPI app\n",
    "app = FastAPI(title=\"Credit Card Fraud Detection API\")\n",
    "\n",
    "# Define input schema (alle feature-kolonner undtagen 'Class')\n",
    "class Transaction(BaseModel):\n",
    "    V1: float\n",
    "    V2: float\n",
    "    V3: float\n",
    "    V4: float\n",
    "    V5: float\n",
    "    V6: float\n",
    "    V7: float\n",
    "    V8: float\n",
    "    V9: float\n",
    "    V10: float\n",
    "    V11: float\n",
    "    V12: float\n",
    "    V13: float\n",
    "    V14: float\n",
    "    V15: float\n",
    "    V16: float\n",
    "    V17: float\n",
    "    V18: float\n",
    "    V19: float\n",
    "    V20: float\n",
    "    V21: float\n",
    "    V22: float\n",
    "    V23: float\n",
    "    V24: float\n",
    "    V25: float\n",
    "    V26: float\n",
    "    V27: float\n",
    "    V28: float\n",
    "    Amount: float\n",
    "    Time: float\n",
    "\n",
    "@app.get(\"/\")\n",
    "def read_root():\n",
    "    return {\"message\": \"RF-model til kreditkortsvindel - kør POST på /predict\"}\n",
    "\n",
    "@app.post(\"/predict\")\n",
    "def predict_fraud(transaction: Transaction):\n",
    "    data = np.array([[getattr(transaction, col) for col in transaction.model_fields]])\n",
    "    prediction = model.predict(data)[0]\n",
    "    probability = model.predict_proba(data)[0][1]\n",
    "    return {\n",
    "        \"prediction\": int(prediction),\n",
    "        \"fraud_probability\": round(probability, 4)\n",
    "    }\n"
   ]
  },
  {
   "cell_type": "markdown",
   "id": "74a49fe8",
   "metadata": {},
   "source": [
    "uvicorn main:app --reload\n",
    "\n",
    "API'et kører så på http://127.0.0.1:8000."
   ]
  },
  {
   "cell_type": "code",
   "execution_count": null,
   "id": "036a47ce",
   "metadata": {},
   "outputs": [],
   "source": []
  }
 ],
 "metadata": {
  "language_info": {
   "name": "python"
  }
 },
 "nbformat": 4,
 "nbformat_minor": 5
}
