{
 "cells": [
  {
   "cell_type": "code",
   "execution_count": 1,
   "id": "15500eb5",
   "metadata": {},
   "outputs": [
    {
     "name": "stderr",
     "output_type": "stream",
     "text": [
      "c:\\Users\\jeppe\\anaconda3\\a3\\envs\\ml-env\\lib\\site-packages\\sklearn\\base.py:474: FutureWarning: `BaseEstimator._validate_data` is deprecated in 1.6 and will be removed in 1.7. Use `sklearn.utils.validation.validate_data` instead. This function becomes public and is part of the scikit-learn developer API.\n",
      "  warnings.warn(\n"
     ]
    },
    {
     "name": "stdout",
     "output_type": "stream",
     "text": [
      "\n",
      "Fold 1:\n",
      "Confusion Matrix:\n",
      "[[45479    12]\n",
      " [   15    63]]\n",
      "Precision: 0.8400\n",
      "Recall:    0.8077\n",
      "F1-score:  0.8235\n",
      "Classification report:\n",
      "              precision    recall  f1-score   support\n",
      "\n",
      "           0       1.00      1.00      1.00     45491\n",
      "           1       0.84      0.81      0.82        78\n",
      "\n",
      "    accuracy                           1.00     45569\n",
      "   macro avg       0.92      0.90      0.91     45569\n",
      "weighted avg       1.00      1.00      1.00     45569\n",
      "\n"
     ]
    },
    {
     "name": "stderr",
     "output_type": "stream",
     "text": [
      "c:\\Users\\jeppe\\anaconda3\\a3\\envs\\ml-env\\lib\\site-packages\\sklearn\\base.py:474: FutureWarning: `BaseEstimator._validate_data` is deprecated in 1.6 and will be removed in 1.7. Use `sklearn.utils.validation.validate_data` instead. This function becomes public and is part of the scikit-learn developer API.\n",
      "  warnings.warn(\n"
     ]
    },
    {
     "name": "stdout",
     "output_type": "stream",
     "text": [
      "\n",
      "Fold 2:\n",
      "Confusion Matrix:\n",
      "[[45484     6]\n",
      " [   21    58]]\n",
      "Precision: 0.9062\n",
      "Recall:    0.7342\n",
      "F1-score:  0.8112\n",
      "Classification report:\n",
      "              precision    recall  f1-score   support\n",
      "\n",
      "           0       1.00      1.00      1.00     45490\n",
      "           1       0.91      0.73      0.81        79\n",
      "\n",
      "    accuracy                           1.00     45569\n",
      "   macro avg       0.95      0.87      0.91     45569\n",
      "weighted avg       1.00      1.00      1.00     45569\n",
      "\n"
     ]
    },
    {
     "name": "stderr",
     "output_type": "stream",
     "text": [
      "c:\\Users\\jeppe\\anaconda3\\a3\\envs\\ml-env\\lib\\site-packages\\sklearn\\base.py:474: FutureWarning: `BaseEstimator._validate_data` is deprecated in 1.6 and will be removed in 1.7. Use `sklearn.utils.validation.validate_data` instead. This function becomes public and is part of the scikit-learn developer API.\n",
      "  warnings.warn(\n"
     ]
    },
    {
     "name": "stdout",
     "output_type": "stream",
     "text": [
      "\n",
      "Fold 3:\n",
      "Confusion Matrix:\n",
      "[[45485     5]\n",
      " [   20    59]]\n",
      "Precision: 0.9219\n",
      "Recall:    0.7468\n",
      "F1-score:  0.8252\n",
      "Classification report:\n",
      "              precision    recall  f1-score   support\n",
      "\n",
      "           0       1.00      1.00      1.00     45490\n",
      "           1       0.92      0.75      0.83        79\n",
      "\n",
      "    accuracy                           1.00     45569\n",
      "   macro avg       0.96      0.87      0.91     45569\n",
      "weighted avg       1.00      1.00      1.00     45569\n",
      "\n"
     ]
    },
    {
     "name": "stderr",
     "output_type": "stream",
     "text": [
      "c:\\Users\\jeppe\\anaconda3\\a3\\envs\\ml-env\\lib\\site-packages\\sklearn\\base.py:474: FutureWarning: `BaseEstimator._validate_data` is deprecated in 1.6 and will be removed in 1.7. Use `sklearn.utils.validation.validate_data` instead. This function becomes public and is part of the scikit-learn developer API.\n",
      "  warnings.warn(\n"
     ]
    },
    {
     "name": "stdout",
     "output_type": "stream",
     "text": [
      "\n",
      "Fold 4:\n",
      "Confusion Matrix:\n",
      "[[45477    13]\n",
      " [    8    71]]\n",
      "Precision: 0.8452\n",
      "Recall:    0.8987\n",
      "F1-score:  0.8712\n",
      "Classification report:\n",
      "              precision    recall  f1-score   support\n",
      "\n",
      "           0       1.00      1.00      1.00     45490\n",
      "           1       0.85      0.90      0.87        79\n",
      "\n",
      "    accuracy                           1.00     45569\n",
      "   macro avg       0.92      0.95      0.94     45569\n",
      "weighted avg       1.00      1.00      1.00     45569\n",
      "\n"
     ]
    },
    {
     "name": "stderr",
     "output_type": "stream",
     "text": [
      "c:\\Users\\jeppe\\anaconda3\\a3\\envs\\ml-env\\lib\\site-packages\\sklearn\\base.py:474: FutureWarning: `BaseEstimator._validate_data` is deprecated in 1.6 and will be removed in 1.7. Use `sklearn.utils.validation.validate_data` instead. This function becomes public and is part of the scikit-learn developer API.\n",
      "  warnings.warn(\n"
     ]
    },
    {
     "name": "stdout",
     "output_type": "stream",
     "text": [
      "\n",
      "Fold 5:\n",
      "Confusion Matrix:\n",
      "[[45484     6]\n",
      " [   14    65]]\n",
      "Precision: 0.9155\n",
      "Recall:    0.8228\n",
      "F1-score:  0.8667\n",
      "Classification report:\n",
      "              precision    recall  f1-score   support\n",
      "\n",
      "           0       1.00      1.00      1.00     45490\n",
      "           1       0.92      0.82      0.87        79\n",
      "\n",
      "    accuracy                           1.00     45569\n",
      "   macro avg       0.96      0.91      0.93     45569\n",
      "weighted avg       1.00      1.00      1.00     45569\n",
      "\n",
      "\n",
      "=== Gennemsnitlig performance over 5 folds ===\n",
      "Gns. Precision: 0.8858\n",
      "Gns. Recall:    0.8020\n",
      "Gns. F1-score:  0.8395\n"
     ]
    },
    {
     "name": "stderr",
     "output_type": "stream",
     "text": [
      "c:\\Users\\jeppe\\anaconda3\\a3\\envs\\ml-env\\lib\\site-packages\\sklearn\\base.py:474: FutureWarning: `BaseEstimator._validate_data` is deprecated in 1.6 and will be removed in 1.7. Use `sklearn.utils.validation.validate_data` instead. This function becomes public and is part of the scikit-learn developer API.\n",
      "  warnings.warn(\n"
     ]
    },
    {
     "name": "stdout",
     "output_type": "stream",
     "text": [
      "\n",
      "=== Endelig evaluering på test-sæt ===\n",
      "Confusion Matrix:\n",
      "[[56853    11]\n",
      " [   18    80]]\n",
      "Precision: 0.8791\n",
      "Recall:    0.8163\n",
      "F1-score:  0.8466\n",
      "Classification report:\n",
      "              precision    recall  f1-score   support\n",
      "\n",
      "           0       1.00      1.00      1.00     56864\n",
      "           1       0.88      0.82      0.85        98\n",
      "\n",
      "    accuracy                           1.00     56962\n",
      "   macro avg       0.94      0.91      0.92     56962\n",
      "weighted avg       1.00      1.00      1.00     56962\n",
      "\n"
     ]
    },
    {
     "data": {
      "text/plain": [
       "['rf_model.pkl']"
      ]
     },
     "execution_count": 1,
     "metadata": {},
     "output_type": "execute_result"
    }
   ],
   "source": [
    "import pandas as pd\n",
    "from sklearn.ensemble import RandomForestClassifier\n",
    "from sklearn.model_selection import StratifiedKFold, train_test_split\n",
    "from sklearn.metrics import precision_score, recall_score, f1_score, confusion_matrix, classification_report\n",
    "from imblearn.over_sampling import SMOTE\n",
    "\n",
    "# Load data\n",
    "data_path = r\"C:\\Job_og_eksamensbevis\\Github\\projekter\\RF_project\\data\\creditcard_preprocessed.csv\"\n",
    "df = pd.read_csv(data_path)\n",
    "\n",
    "X = df.drop('Class', axis=1)\n",
    "y = df['Class']\n",
    "\n",
    "# Split data i træning+validering og test (20% test, stratificeret)\n",
    "X_train_val, X_test, y_train_val, y_test = train_test_split(\n",
    "    X, y, test_size=0.2, stratify=y, random_state=42)\n",
    "\n",
    "# Stratified K-Fold på træning+validering (80%)\n",
    "skf = StratifiedKFold(n_splits=5, shuffle=True, random_state=42)\n",
    "\n",
    "precisions = []\n",
    "recalls = []\n",
    "f1s = []\n",
    "\n",
    "for fold, (train_idx, val_idx) in enumerate(skf.split(X_train_val, y_train_val), 1):\n",
    "    X_train, X_val = X_train_val.iloc[train_idx], X_train_val.iloc[val_idx]\n",
    "    y_train, y_val = y_train_val.iloc[train_idx], y_train_val.iloc[val_idx]\n",
    "\n",
    "    smote = SMOTE(random_state=42)\n",
    "    X_train_resampled, y_train_resampled = smote.fit_resample(X_train, y_train)\n",
    "\n",
    "    rf = RandomForestClassifier(\n",
    "        n_estimators=100,\n",
    "        random_state=42,\n",
    "        n_jobs=-1\n",
    "    )\n",
    "\n",
    "    rf.fit(X_train_resampled, y_train_resampled)\n",
    "    y_val_pred = rf.predict(X_val)\n",
    "\n",
    "    precision = precision_score(y_val, y_val_pred)\n",
    "    recall = recall_score(y_val, y_val_pred)\n",
    "    f1 = f1_score(y_val, y_val_pred)\n",
    "\n",
    "    precisions.append(precision)\n",
    "    recalls.append(recall)\n",
    "    f1s.append(f1)\n",
    "\n",
    "    print(f\"\\nFold {fold}:\")\n",
    "    print(\"Confusion Matrix:\")\n",
    "    print(confusion_matrix(y_val, y_val_pred))\n",
    "    print(f\"Precision: {precision:.4f}\")\n",
    "    print(f\"Recall:    {recall:.4f}\")\n",
    "    print(f\"F1-score:  {f1:.4f}\")\n",
    "    print(\"Classification report:\")\n",
    "    print(classification_report(y_val, y_val_pred))\n",
    "\n",
    "print(\"\\n=== Gennemsnitlig performance over 5 folds ===\")\n",
    "print(f\"Gns. Precision: {sum(precisions)/len(precisions):.4f}\")\n",
    "print(f\"Gns. Recall:    {sum(recalls)/len(recalls):.4f}\")\n",
    "print(f\"Gns. F1-score:  {sum(f1s)/len(f1s):.4f}\")\n",
    "\n",
    "# --- Endelig test på hold-out test-sæt ---\n",
    "\n",
    "# Træn model på hele træning+valideringsdata (med SMOTE)\n",
    "smote = SMOTE(random_state=42)\n",
    "X_train_val_resampled, y_train_val_resampled = smote.fit_resample(X_train_val, y_train_val)\n",
    "\n",
    "final_rf = RandomForestClassifier(n_estimators=100,\n",
    "                                  random_state=42,\n",
    "                                  n_jobs=-1\n",
    ")\n",
    "\n",
    "final_rf.fit(X_train_val_resampled, y_train_val_resampled)\n",
    "\n",
    "# Forudsig på det uafhængige test-sæt\n",
    "y_test_pred = final_rf.predict(X_test)\n",
    "\n",
    "print(\"\\n=== Endelig evaluering på test-sæt ===\")\n",
    "print(\"Confusion Matrix:\")\n",
    "print(confusion_matrix(y_test, y_test_pred))\n",
    "print(f\"Precision: {precision_score(y_test, y_test_pred):.4f}\")\n",
    "print(f\"Recall:    {recall_score(y_test, y_test_pred):.4f}\")\n",
    "print(f\"F1-score:  {f1_score(y_test, y_test_pred):.4f}\")\n",
    "print(\"Classification report:\")\n",
    "print(classification_report(y_test, y_test_pred))\n",
    "\n",
    "import joblib\n",
    "\n",
    "\n",
    "# Gem den trænede model\n",
    "joblib.dump(final_rf, \"rf_model.pkl\")\n",
    "\n"
   ]
  }
 ],
 "metadata": {
  "kernelspec": {
   "display_name": "ml-env",
   "language": "python",
   "name": "python3"
  },
  "language_info": {
   "codemirror_mode": {
    "name": "ipython",
    "version": 3
   },
   "file_extension": ".py",
   "mimetype": "text/x-python",
   "name": "python",
   "nbconvert_exporter": "python",
   "pygments_lexer": "ipython3",
   "version": "3.9.23"
  }
 },
 "nbformat": 4,
 "nbformat_minor": 5
}
