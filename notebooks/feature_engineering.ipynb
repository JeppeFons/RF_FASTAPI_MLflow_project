{
 "cells": [
  {
   "cell_type": "code",
   "execution_count": null,
   "id": "69fcbc46",
   "metadata": {},
   "outputs": [],
   "source": [
    "import pandas as pd\n",
    "from sklearn.preprocessing import RobustScaler\n",
    "\n",
    "# Load data\n",
    "df = pd.read_csv(\"creditcard.csv\")\n",
    "\n",
    "# Skaler \"Amount\" og \"Time\"\n",
    "scaler = RobustScaler()\n",
    "df['Amount_scaled'] = scaler.fit_transform(df[['Amount']])\n",
    "df['Time_scaled'] = scaler.fit_transform(df[['Time']])\n",
    "\n",
    "# Fjern de gamle kolonner\n",
    "df = df.drop(['Amount', 'Time'], axis=1)\n",
    "\n",
    "# Gem det ændrede datasæt\n",
    "df.to_csv(\"creditcard_preprocessed.csv\", index=False)\n"
   ]
  },
  {
   "cell_type": "code",
   "execution_count": null,
   "id": "4c8da15e",
   "metadata": {},
   "outputs": [],
   "source": [
    "\n",
    "from sklearn.ensemble import RandomForestClassifier\n",
    "from sklearn.metrics import classification_report, roc_auc_score\n",
    "\n",
    "X_with_time = df.drop('Class', axis=1) # X = df.drop(['Class', 'Time_scaled'], axis=1)\n",
    "y = df['Class']\n",
    "\n",
    "# Uden Time_scaled\n",
    "X_without_time = df.drop(['Class', 'Time_scaled'], axis=1)\n",
    "\n",
    "\n",
    "# Stratificeret split\n",
    "X_train, X_test, y_train, y_test = train_test_split(X, y, stratify=y, test_size=0.2, random_state=42)\n",
    "\n",
    "# Model\n",
    "model = RandomForestClassifier(class_weight='balanced', random_state=42)\n",
    "model.fit(X_train, y_train)\n",
    "y_pred = model.predict(X_test)\n",
    "y_prob = model.predict_proba(X_test)[:, 1]\n",
    "\n",
    "# Evaluering\n",
    "print(classification_report(y_test, y_pred))\n",
    "print(\"ROC AUC:\", roc_auc_score(y_test, y_prob))\n"
   ]
  }
 ],
 "metadata": {
  "language_info": {
   "name": "python"
  }
 },
 "nbformat": 4,
 "nbformat_minor": 5
}
