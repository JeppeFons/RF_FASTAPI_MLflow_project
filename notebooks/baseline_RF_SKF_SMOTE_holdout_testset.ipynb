{
 "cells": [
  {
   "cell_type": "code",
   "execution_count": 1,
   "id": "7b5f873b",
   "metadata": {},
   "outputs": [],
   "source": [
    "import pandas as pd\n",
    "from sklearn.ensemble import RandomForestClassifier\n",
    "from sklearn.model_selection import StratifiedKFold, train_test_split\n",
    "from sklearn.metrics import precision_score, recall_score, f1_score, confusion_matrix, classification_report\n",
    "from imblearn.over_sampling import SMOTE"
   ]
  },
  {
   "cell_type": "code",
   "execution_count": 2,
   "id": "460f503c",
   "metadata": {},
   "outputs": [],
   "source": [
    "# Load data\n",
    "data_path = r\"C:\\Job_og_eksamensbevis\\Github\\projekter\\RF_project\\data\\creditcard.csv\"\n",
    "df = pd.read_csv(data_path)\n",
    "\n",
    "X = df.drop('Class', axis=1)\n",
    "y = df['Class']\n",
    "\n",
    "# Split data i træning+validering og test (20% test, stratificeret)\n",
    "X_train_val, X_test, y_train_val, y_test = train_test_split(\n",
    "    X, y, test_size=0.2, stratify=y, random_state=42)\n",
    "\n",
    "# Stratified K-Fold på træning+validering (80%)\n",
    "skf = StratifiedKFold(n_splits=5, shuffle=True, random_state=42)"
   ]
  },
  {
   "cell_type": "code",
   "execution_count": null,
   "id": "1ffc674a",
   "metadata": {},
   "outputs": [
    {
     "name": "stderr",
     "output_type": "stream",
     "text": [
      "c:\\Users\\jeppe\\anaconda3\\a3\\envs\\ml-env\\lib\\site-packages\\sklearn\\base.py:474: FutureWarning: `BaseEstimator._validate_data` is deprecated in 1.6 and will be removed in 1.7. Use `sklearn.utils.validation.validate_data` instead. This function becomes public and is part of the scikit-learn developer API.\n",
      "  warnings.warn(\n"
     ]
    },
    {
     "name": "stdout",
     "output_type": "stream",
     "text": [
      "\n",
      "Fold 1:\n",
      "Confusion Matrix:\n",
      "[[45481    10]\n",
      " [   11    67]]\n",
      "Precision: 0.8701\n",
      "Recall:    0.8590\n",
      "F1-score:  0.8645\n",
      "Classification report:\n",
      "              precision    recall  f1-score   support\n",
      "\n",
      "           0       1.00      1.00      1.00     45491\n",
      "           1       0.87      0.86      0.86        78\n",
      "\n",
      "    accuracy                           1.00     45569\n",
      "   macro avg       0.93      0.93      0.93     45569\n",
      "weighted avg       1.00      1.00      1.00     45569\n",
      "\n"
     ]
    },
    {
     "name": "stderr",
     "output_type": "stream",
     "text": [
      "c:\\Users\\jeppe\\anaconda3\\a3\\envs\\ml-env\\lib\\site-packages\\sklearn\\base.py:474: FutureWarning: `BaseEstimator._validate_data` is deprecated in 1.6 and will be removed in 1.7. Use `sklearn.utils.validation.validate_data` instead. This function becomes public and is part of the scikit-learn developer API.\n",
      "  warnings.warn(\n"
     ]
    },
    {
     "name": "stdout",
     "output_type": "stream",
     "text": [
      "\n",
      "Fold 2:\n",
      "Confusion Matrix:\n",
      "[[45485     5]\n",
      " [   18    61]]\n",
      "Precision: 0.9242\n",
      "Recall:    0.7722\n",
      "F1-score:  0.8414\n",
      "Classification report:\n",
      "              precision    recall  f1-score   support\n",
      "\n",
      "           0       1.00      1.00      1.00     45490\n",
      "           1       0.92      0.77      0.84        79\n",
      "\n",
      "    accuracy                           1.00     45569\n",
      "   macro avg       0.96      0.89      0.92     45569\n",
      "weighted avg       1.00      1.00      1.00     45569\n",
      "\n"
     ]
    },
    {
     "name": "stderr",
     "output_type": "stream",
     "text": [
      "c:\\Users\\jeppe\\anaconda3\\a3\\envs\\ml-env\\lib\\site-packages\\sklearn\\base.py:474: FutureWarning: `BaseEstimator._validate_data` is deprecated in 1.6 and will be removed in 1.7. Use `sklearn.utils.validation.validate_data` instead. This function becomes public and is part of the scikit-learn developer API.\n",
      "  warnings.warn(\n"
     ]
    },
    {
     "name": "stdout",
     "output_type": "stream",
     "text": [
      "\n",
      "Fold 3:\n",
      "Confusion Matrix:\n",
      "[[45482     8]\n",
      " [   19    60]]\n",
      "Precision: 0.8824\n",
      "Recall:    0.7595\n",
      "F1-score:  0.8163\n",
      "Classification report:\n",
      "              precision    recall  f1-score   support\n",
      "\n",
      "           0       1.00      1.00      1.00     45490\n",
      "           1       0.88      0.76      0.82        79\n",
      "\n",
      "    accuracy                           1.00     45569\n",
      "   macro avg       0.94      0.88      0.91     45569\n",
      "weighted avg       1.00      1.00      1.00     45569\n",
      "\n"
     ]
    },
    {
     "name": "stderr",
     "output_type": "stream",
     "text": [
      "c:\\Users\\jeppe\\anaconda3\\a3\\envs\\ml-env\\lib\\site-packages\\sklearn\\base.py:474: FutureWarning: `BaseEstimator._validate_data` is deprecated in 1.6 and will be removed in 1.7. Use `sklearn.utils.validation.validate_data` instead. This function becomes public and is part of the scikit-learn developer API.\n",
      "  warnings.warn(\n"
     ]
    },
    {
     "name": "stdout",
     "output_type": "stream",
     "text": [
      "\n",
      "Fold 4:\n",
      "Confusion Matrix:\n",
      "[[45479    11]\n",
      " [   11    68]]\n",
      "Precision: 0.8608\n",
      "Recall:    0.8608\n",
      "F1-score:  0.8608\n",
      "Classification report:\n",
      "              precision    recall  f1-score   support\n",
      "\n",
      "           0       1.00      1.00      1.00     45490\n",
      "           1       0.86      0.86      0.86        79\n",
      "\n",
      "    accuracy                           1.00     45569\n",
      "   macro avg       0.93      0.93      0.93     45569\n",
      "weighted avg       1.00      1.00      1.00     45569\n",
      "\n"
     ]
    },
    {
     "name": "stderr",
     "output_type": "stream",
     "text": [
      "c:\\Users\\jeppe\\anaconda3\\a3\\envs\\ml-env\\lib\\site-packages\\sklearn\\base.py:474: FutureWarning: `BaseEstimator._validate_data` is deprecated in 1.6 and will be removed in 1.7. Use `sklearn.utils.validation.validate_data` instead. This function becomes public and is part of the scikit-learn developer API.\n",
      "  warnings.warn(\n"
     ]
    },
    {
     "name": "stdout",
     "output_type": "stream",
     "text": [
      "\n",
      "Fold 5:\n",
      "Confusion Matrix:\n",
      "[[45483     7]\n",
      " [   15    64]]\n",
      "Precision: 0.9014\n",
      "Recall:    0.8101\n",
      "F1-score:  0.8533\n",
      "Classification report:\n",
      "              precision    recall  f1-score   support\n",
      "\n",
      "           0       1.00      1.00      1.00     45490\n",
      "           1       0.90      0.81      0.85        79\n",
      "\n",
      "    accuracy                           1.00     45569\n",
      "   macro avg       0.95      0.90      0.93     45569\n",
      "weighted avg       1.00      1.00      1.00     45569\n",
      "\n",
      "\n",
      "=== Gennemsnitlig performance over 5 folds ===\n"
     ]
    },
    {
     "ename": "NameError",
     "evalue": "name 'precisions' is not defined",
     "output_type": "error",
     "traceback": [
      "\u001b[1;31m---------------------------------------------------------------------------\u001b[0m",
      "\u001b[1;31mNameError\u001b[0m                                 Traceback (most recent call last)",
      "Cell \u001b[1;32mIn[3], line 30\u001b[0m\n\u001b[0;32m     27\u001b[0m     \u001b[38;5;28mprint\u001b[39m(classification_report(y_val, y_val_pred))\n\u001b[0;32m     29\u001b[0m \u001b[38;5;28mprint\u001b[39m(\u001b[38;5;124m\"\u001b[39m\u001b[38;5;130;01m\\n\u001b[39;00m\u001b[38;5;124m=== Gennemsnitlig performance over 5 folds ===\u001b[39m\u001b[38;5;124m\"\u001b[39m)\n\u001b[1;32m---> 30\u001b[0m \u001b[38;5;28mprint\u001b[39m(\u001b[38;5;124mf\u001b[39m\u001b[38;5;124m\"\u001b[39m\u001b[38;5;124mGns. Precision: \u001b[39m\u001b[38;5;132;01m{\u001b[39;00m\u001b[38;5;28msum\u001b[39m(precisions)\u001b[38;5;241m/\u001b[39m\u001b[38;5;28mlen\u001b[39m(precisions)\u001b[38;5;132;01m:\u001b[39;00m\u001b[38;5;124m.4f\u001b[39m\u001b[38;5;132;01m}\u001b[39;00m\u001b[38;5;124m\"\u001b[39m)\n\u001b[0;32m     31\u001b[0m \u001b[38;5;28mprint\u001b[39m(\u001b[38;5;124mf\u001b[39m\u001b[38;5;124m\"\u001b[39m\u001b[38;5;124mGns. Recall:    \u001b[39m\u001b[38;5;132;01m{\u001b[39;00m\u001b[38;5;28msum\u001b[39m(recalls)\u001b[38;5;241m/\u001b[39m\u001b[38;5;28mlen\u001b[39m(recalls)\u001b[38;5;132;01m:\u001b[39;00m\u001b[38;5;124m.4f\u001b[39m\u001b[38;5;132;01m}\u001b[39;00m\u001b[38;5;124m\"\u001b[39m)\n\u001b[0;32m     32\u001b[0m \u001b[38;5;28mprint\u001b[39m(\u001b[38;5;124mf\u001b[39m\u001b[38;5;124m\"\u001b[39m\u001b[38;5;124mGns. F1-score:  \u001b[39m\u001b[38;5;132;01m{\u001b[39;00m\u001b[38;5;28msum\u001b[39m(f1s)\u001b[38;5;241m/\u001b[39m\u001b[38;5;28mlen\u001b[39m(f1s)\u001b[38;5;132;01m:\u001b[39;00m\u001b[38;5;124m.4f\u001b[39m\u001b[38;5;132;01m}\u001b[39;00m\u001b[38;5;124m\"\u001b[39m)\n",
      "\u001b[1;31mNameError\u001b[0m: name 'precisions' is not defined"
     ]
    }
   ],
   "source": [
    "precisions = []\n",
    "recalls = []\n",
    "f1s = []\n",
    "\n",
    "for fold, (train_idx, val_idx) in enumerate(skf.split(X_train_val, y_train_val), 1):\n",
    "    X_train, X_val = X_train_val.iloc[train_idx], X_train_val.iloc[val_idx]\n",
    "    y_train, y_val = y_train_val.iloc[train_idx], y_train_val.iloc[val_idx]\n",
    "\n",
    "    smote = SMOTE(random_state=42)\n",
    "    X_train_resampled, y_train_resampled = smote.fit_resample(X_train, y_train)\n",
    "\n",
    "    rf = RandomForestClassifier(\n",
    "        n_estimators=100,\n",
    "        random_state=42,\n",
    "        n_jobs=-1\n",
    "    )\n",
    "\n",
    "    rf.fit(X_train_resampled, y_train_resampled)\n",
    "    y_val_pred = rf.predict(X_val)\n",
    "\n",
    "    precision = precision_score(y_val, y_val_pred)\n",
    "    recall = recall_score(y_val, y_val_pred)\n",
    "    f1 = f1_score(y_val, y_val_pred)\n",
    "\n",
    "    precisions.append(precision)\n",
    "    recalls.append(recall)\n",
    "    f1s.append(f1)\n",
    "\n",
    "    print(f\"\\nFold {fold}:\")\n",
    "    print(\"Confusion Matrix:\")\n",
    "    print(confusion_matrix(y_val, y_val_pred))\n",
    "    print(f\"Precision: {precision:.4f}\")\n",
    "    print(f\"Recall:    {recall:.4f}\")\n",
    "    print(f\"F1-score:  {f1:.4f}\")\n",
    "    print(\"Classification report:\")\n",
    "    print(classification_report(y_val, y_val_pred))\n",
    "\n",
    "print(\"\\n=== Gennemsnitlig performance over 5 folds ===\")\n",
    "print(f\"Gns. Precision: {sum(precisions)/len(precisions):.4f}\")\n",
    "print(f\"Gns. Recall:    {sum(recalls)/len(recalls):.4f}\")\n",
    "print(f\"Gns. F1-score:  {sum(f1s)/len(f1s):.4f}\")\n"
   ]
  },
  {
   "cell_type": "code",
   "execution_count": 4,
   "id": "74ed6e4a",
   "metadata": {},
   "outputs": [
    {
     "name": "stderr",
     "output_type": "stream",
     "text": [
      "c:\\Users\\jeppe\\anaconda3\\a3\\envs\\ml-env\\lib\\site-packages\\sklearn\\base.py:474: FutureWarning: `BaseEstimator._validate_data` is deprecated in 1.6 and will be removed in 1.7. Use `sklearn.utils.validation.validate_data` instead. This function becomes public and is part of the scikit-learn developer API.\n",
      "  warnings.warn(\n"
     ]
    },
    {
     "name": "stdout",
     "output_type": "stream",
     "text": [
      "\n",
      "=== Endelig evaluering på test-sæt ===\n",
      "Confusion Matrix:\n",
      "[[56847    17]\n",
      " [   17    81]]\n",
      "Precision: 0.8265\n",
      "Recall:    0.8265\n",
      "F1-score:  0.8265\n",
      "Classification report:\n",
      "              precision    recall  f1-score   support\n",
      "\n",
      "           0       1.00      1.00      1.00     56864\n",
      "           1       0.83      0.83      0.83        98\n",
      "\n",
      "    accuracy                           1.00     56962\n",
      "   macro avg       0.91      0.91      0.91     56962\n",
      "weighted avg       1.00      1.00      1.00     56962\n",
      "\n"
     ]
    }
   ],
   "source": [
    "# --- Endelig test på hold-out test-sæt ---\n",
    "\n",
    "# Træn model på hele træning+valideringsdata (med SMOTE)\n",
    "smote = SMOTE(random_state=42)\n",
    "X_train_val_resampled, y_train_val_resampled = smote.fit_resample(X_train_val, y_train_val)\n",
    "\n",
    "final_rf = RandomForestClassifier(n_estimators=100,\n",
    "                                  random_state=42,\n",
    "                                  n_jobs=-1\n",
    ")\n",
    "\n",
    "final_rf.fit(X_train_val_resampled, y_train_val_resampled)\n",
    "\n",
    "# Forudsig på det uafhængige test-sæt\n",
    "y_test_pred = final_rf.predict(X_test)\n",
    "\n",
    "print(\"\\n=== Endelig evaluering på test-sæt ===\")\n",
    "print(\"Confusion Matrix:\")\n",
    "print(confusion_matrix(y_test, y_test_pred))\n",
    "print(f\"Precision: {precision_score(y_test, y_test_pred):.4f}\")\n",
    "print(f\"Recall:    {recall_score(y_test, y_test_pred):.4f}\")\n",
    "print(f\"F1-score:  {f1_score(y_test, y_test_pred):.4f}\")\n",
    "print(\"Classification report:\")\n",
    "print(classification_report(y_test, y_test_pred))"
   ]
  }
 ],
 "metadata": {
  "kernelspec": {
   "display_name": "ml-env",
   "language": "python",
   "name": "python3"
  },
  "language_info": {
   "codemirror_mode": {
    "name": "ipython",
    "version": 3
   },
   "file_extension": ".py",
   "mimetype": "text/x-python",
   "name": "python",
   "nbconvert_exporter": "python",
   "pygments_lexer": "ipython3",
   "version": "3.9.23"
  }
 },
 "nbformat": 4,
 "nbformat_minor": 5
}
