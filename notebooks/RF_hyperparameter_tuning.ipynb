{
 "cells": [
  {
   "cell_type": "markdown",
   "id": "b22ec3de",
   "metadata": {},
   "source": [
    "Her er en fuldt integreret løsning, som bevarer SMOTE-oversampling i træningsfoldene, og samtidig bruger GridSearchCV med F1-score som scoringsmetrik. SMOTE kan ikke inkluderes direkte i GridSearchCV, så vi pakker det hele ind i en Pipeline."
   ]
  },
  {
   "cell_type": "code",
   "execution_count": null,
   "id": "6a987d53",
   "metadata": {},
   "outputs": [
    {
     "name": "stdout",
     "output_type": "stream",
     "text": [
      "Fitting 5 folds for each of 48 candidates, totalling 240 fits\n"
     ]
    }
   ],
   "source": [
    "import pandas as pd\n",
    "from sklearn.ensemble import RandomForestClassifier\n",
    "from sklearn.model_selection import StratifiedKFold, train_test_split, GridSearchCV\n",
    "from sklearn.metrics import precision_score, recall_score, f1_score, confusion_matrix, classification_report\n",
    "from imblearn.over_sampling import SMOTE\n",
    "from imblearn.pipeline import Pipeline  # NB: fra imblearn, ikke sklearn!from tqdm.notebook import tqdm\n",
    "\n",
    "# Load data\n",
    "data_path = r\"C:\\Job_og_eksamensbevis\\Github\\projekter\\RF_project\\data\\creditcard.csv\"\n",
    "df = pd.read_csv(data_path)\n",
    "\n",
    "X = df.drop('Class', axis=1)\n",
    "y = df['Class']\n",
    "\n",
    "# Train/test split\n",
    "X_train_val, X_test, y_train_val, y_test = train_test_split(\n",
    "    X, y, test_size=0.2, stratify=y, random_state=42)\n",
    "\n",
    "# --- Pipeline: SMOTE + Random Forest ---\n",
    "pipeline = Pipeline([\n",
    "    ('smote', SMOTE(random_state=42)),\n",
    "    ('rf', RandomForestClassifier(random_state=42, n_jobs=-1))\n",
    "])\n",
    "\n",
    "# --- Hyperparameter grid ---\n",
    "param_grid = {\n",
    "    'rf__n_estimators': [100, 200],\n",
    "    'rf__max_depth': [None, 10, 20],\n",
    "    'rf__min_samples_split': [2, 5],\n",
    "    'rf__min_samples_leaf': [1, 2],\n",
    "    'rf__max_features': ['sqrt', 'log2']\n",
    "}\n",
    "\n",
    "# --- Grid Search med cross-validation ---\n",
    "grid_search = GridSearchCV(\n",
    "    pipeline,\n",
    "    param_grid,\n",
    "    scoring='f1',\n",
    "    cv=StratifiedKFold(n_splits=5, shuffle=True, random_state=42),\n",
    "    n_jobs=-1,\n",
    "    verbose=1\n",
    ")\n",
    "\n",
    "grid_search.fit(X_train_val, y_train_val)\n",
    "\n",
    "# --- Bedste parametre og score ---\n",
    "print(\"\\n=== Bedste parametre fundet af GridSearchCV ===\")\n",
    "print(grid_search.best_params_)\n",
    "print(f\"Bedste F1-score på valideringsfolds: {grid_search.best_score_:.4f}\")\n",
    "\n",
    "# --- Endelig evaluering på test-sæt ---\n",
    "y_test_pred = grid_search.best_estimator_.predict(X_test)\n",
    "\n",
    "print(\"\\n=== Endelig evaluering på test-sæt ===\")\n",
    "print(\"Confusion Matrix:\")\n",
    "print(confusion_matrix(y_test, y_test_pred))\n",
    "print(f\"Precision: {precision_score(y_test, y_test_pred):.4f}\")\n",
    "print(f\"Recall:    {recall_score(y_test, y_test_pred):.4f}\")\n",
    "print(f\"F1-score:  {f1_score(y_test, y_test_pred):.4f}\")\n",
    "print(\"Classification report:\")\n",
    "print(classification_report(y_test, y_test_pred))"
   ]
  },
  {
   "cell_type": "markdown",
   "id": "3e533366",
   "metadata": {},
   "source": [
    "min_samples_split 2, 5, 10\n",
    "\n",
    "min_samples_leaf 1, 2, 5\n",
    "\n",
    "max_features 'sqrt', 'log2', None\n",
    "\n",
    "bootstrap True eller False\n",
    "\n",
    "class_weight\t {0:1, 1:5}\n",
    "\n",
    "random_state\t\tFx 42\n",
    "\n",
    "n_jobs\t-1 = alle kerner\n",
    "\n",
    "criterion 'gini' (default) eller 'entropy', 'log_loss'"
   ]
  }
 ],
 "metadata": {
  "kernelspec": {
   "display_name": "ml-env",
   "language": "python",
   "name": "python3"
  },
  "language_info": {
   "codemirror_mode": {
    "name": "ipython",
    "version": 3
   },
   "file_extension": ".py",
   "mimetype": "text/x-python",
   "name": "python",
   "nbconvert_exporter": "python",
   "pygments_lexer": "ipython3",
   "version": "3.9.23"
  }
 },
 "nbformat": 4,
 "nbformat_minor": 5
}
