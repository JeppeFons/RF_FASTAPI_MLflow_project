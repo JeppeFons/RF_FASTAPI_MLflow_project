{
 "cells": [
  {
   "cell_type": "code",
   "execution_count": null,
   "id": "759c982b",
   "metadata": {},
   "outputs": [
    {
     "name": "stderr",
     "output_type": "stream",
     "text": [
      "2025/07/14 18:50:36 INFO mlflow.tracking.fluent: Experiment with name 'creditcard_fraud_detection' does not exist. Creating a new experiment.\n",
      "c:\\Users\\jeppe\\anaconda3\\a3\\envs\\ml-env\\lib\\site-packages\\sklearn\\base.py:474: FutureWarning: `BaseEstimator._validate_data` is deprecated in 1.6 and will be removed in 1.7. Use `sklearn.utils.validation.validate_data` instead. This function becomes public and is part of the scikit-learn developer API.\n",
      "  warnings.warn(\n",
      "2025/07/14 18:51:35 WARNING mlflow.models.model: `artifact_path` is deprecated. Please use `name` instead.\n",
      "2025/07/14 18:51:41 WARNING mlflow.models.model: Model logged without a signature and input example. Please set `input_example` parameter when logging the model to auto infer the model signature.\n",
      "c:\\Users\\jeppe\\anaconda3\\a3\\envs\\ml-env\\lib\\site-packages\\sklearn\\base.py:474: FutureWarning: `BaseEstimator._validate_data` is deprecated in 1.6 and will be removed in 1.7. Use `sklearn.utils.validation.validate_data` instead. This function becomes public and is part of the scikit-learn developer API.\n",
      "  warnings.warn(\n"
     ]
    },
    {
     "name": "stdout",
     "output_type": "stream",
     "text": [
      "\n",
      "Fold 1:\n",
      "Confusion Matrix:\n",
      "[[45481    10]\n",
      " [   11    67]]\n",
      "Precision: 0.8701\n",
      "Recall:    0.8590\n",
      "F1-score:  0.8645\n",
      "Classification report:\n",
      "              precision    recall  f1-score   support\n",
      "\n",
      "           0       1.00      1.00      1.00     45491\n",
      "           1       0.87      0.86      0.86        78\n",
      "\n",
      "    accuracy                           1.00     45569\n",
      "   macro avg       0.93      0.93      0.93     45569\n",
      "weighted avg       1.00      1.00      1.00     45569\n",
      "\n",
      "🏃 View run Fold_1 at: http://127.0.0.1:5000/#/experiments/2/runs/8e933adeefb54cfd99ce148f6da225df\n",
      "🧪 View experiment at: http://127.0.0.1:5000/#/experiments/2\n"
     ]
    },
    {
     "name": "stderr",
     "output_type": "stream",
     "text": [
      "2025/07/14 18:52:44 WARNING mlflow.models.model: `artifact_path` is deprecated. Please use `name` instead.\n",
      "2025/07/14 18:52:48 WARNING mlflow.models.model: Model logged without a signature and input example. Please set `input_example` parameter when logging the model to auto infer the model signature.\n",
      "c:\\Users\\jeppe\\anaconda3\\a3\\envs\\ml-env\\lib\\site-packages\\sklearn\\base.py:474: FutureWarning: `BaseEstimator._validate_data` is deprecated in 1.6 and will be removed in 1.7. Use `sklearn.utils.validation.validate_data` instead. This function becomes public and is part of the scikit-learn developer API.\n",
      "  warnings.warn(\n"
     ]
    },
    {
     "name": "stdout",
     "output_type": "stream",
     "text": [
      "\n",
      "Fold 2:\n",
      "Confusion Matrix:\n",
      "[[45485     5]\n",
      " [   18    61]]\n",
      "Precision: 0.9242\n",
      "Recall:    0.7722\n",
      "F1-score:  0.8414\n",
      "Classification report:\n",
      "              precision    recall  f1-score   support\n",
      "\n",
      "           0       1.00      1.00      1.00     45490\n",
      "           1       0.92      0.77      0.84        79\n",
      "\n",
      "    accuracy                           1.00     45569\n",
      "   macro avg       0.96      0.89      0.92     45569\n",
      "weighted avg       1.00      1.00      1.00     45569\n",
      "\n",
      "🏃 View run Fold_2 at: http://127.0.0.1:5000/#/experiments/2/runs/7a02ad8be0484ea4a08f651ca2bfae1a\n",
      "🧪 View experiment at: http://127.0.0.1:5000/#/experiments/2\n"
     ]
    },
    {
     "name": "stderr",
     "output_type": "stream",
     "text": [
      "2025/07/14 18:53:50 WARNING mlflow.models.model: `artifact_path` is deprecated. Please use `name` instead.\n",
      "2025/07/14 18:53:54 WARNING mlflow.models.model: Model logged without a signature and input example. Please set `input_example` parameter when logging the model to auto infer the model signature.\n",
      "c:\\Users\\jeppe\\anaconda3\\a3\\envs\\ml-env\\lib\\site-packages\\sklearn\\base.py:474: FutureWarning: `BaseEstimator._validate_data` is deprecated in 1.6 and will be removed in 1.7. Use `sklearn.utils.validation.validate_data` instead. This function becomes public and is part of the scikit-learn developer API.\n",
      "  warnings.warn(\n"
     ]
    },
    {
     "name": "stdout",
     "output_type": "stream",
     "text": [
      "\n",
      "Fold 3:\n",
      "Confusion Matrix:\n",
      "[[45482     8]\n",
      " [   19    60]]\n",
      "Precision: 0.8824\n",
      "Recall:    0.7595\n",
      "F1-score:  0.8163\n",
      "Classification report:\n",
      "              precision    recall  f1-score   support\n",
      "\n",
      "           0       1.00      1.00      1.00     45490\n",
      "           1       0.88      0.76      0.82        79\n",
      "\n",
      "    accuracy                           1.00     45569\n",
      "   macro avg       0.94      0.88      0.91     45569\n",
      "weighted avg       1.00      1.00      1.00     45569\n",
      "\n",
      "🏃 View run Fold_3 at: http://127.0.0.1:5000/#/experiments/2/runs/da8512fcc2194e16969232a28742d647\n",
      "🧪 View experiment at: http://127.0.0.1:5000/#/experiments/2\n"
     ]
    },
    {
     "name": "stderr",
     "output_type": "stream",
     "text": [
      "2025/07/14 18:54:54 WARNING mlflow.models.model: `artifact_path` is deprecated. Please use `name` instead.\n",
      "2025/07/14 18:54:58 WARNING mlflow.models.model: Model logged without a signature and input example. Please set `input_example` parameter when logging the model to auto infer the model signature.\n",
      "c:\\Users\\jeppe\\anaconda3\\a3\\envs\\ml-env\\lib\\site-packages\\sklearn\\base.py:474: FutureWarning: `BaseEstimator._validate_data` is deprecated in 1.6 and will be removed in 1.7. Use `sklearn.utils.validation.validate_data` instead. This function becomes public and is part of the scikit-learn developer API.\n",
      "  warnings.warn(\n"
     ]
    },
    {
     "name": "stdout",
     "output_type": "stream",
     "text": [
      "\n",
      "Fold 4:\n",
      "Confusion Matrix:\n",
      "[[45479    11]\n",
      " [   11    68]]\n",
      "Precision: 0.8608\n",
      "Recall:    0.8608\n",
      "F1-score:  0.8608\n",
      "Classification report:\n",
      "              precision    recall  f1-score   support\n",
      "\n",
      "           0       1.00      1.00      1.00     45490\n",
      "           1       0.86      0.86      0.86        79\n",
      "\n",
      "    accuracy                           1.00     45569\n",
      "   macro avg       0.93      0.93      0.93     45569\n",
      "weighted avg       1.00      1.00      1.00     45569\n",
      "\n",
      "🏃 View run Fold_4 at: http://127.0.0.1:5000/#/experiments/2/runs/fb69f2d0f0e042ee8a2bf7a18ebb7cd2\n",
      "🧪 View experiment at: http://127.0.0.1:5000/#/experiments/2\n"
     ]
    },
    {
     "name": "stderr",
     "output_type": "stream",
     "text": [
      "2025/07/14 18:55:57 WARNING mlflow.models.model: `artifact_path` is deprecated. Please use `name` instead.\n",
      "2025/07/14 18:56:01 WARNING mlflow.models.model: Model logged without a signature and input example. Please set `input_example` parameter when logging the model to auto infer the model signature.\n",
      "c:\\Users\\jeppe\\anaconda3\\a3\\envs\\ml-env\\lib\\site-packages\\sklearn\\base.py:474: FutureWarning: `BaseEstimator._validate_data` is deprecated in 1.6 and will be removed in 1.7. Use `sklearn.utils.validation.validate_data` instead. This function becomes public and is part of the scikit-learn developer API.\n",
      "  warnings.warn(\n"
     ]
    },
    {
     "name": "stdout",
     "output_type": "stream",
     "text": [
      "\n",
      "Fold 5:\n",
      "Confusion Matrix:\n",
      "[[45483     7]\n",
      " [   15    64]]\n",
      "Precision: 0.9014\n",
      "Recall:    0.8101\n",
      "F1-score:  0.8533\n",
      "Classification report:\n",
      "              precision    recall  f1-score   support\n",
      "\n",
      "           0       1.00      1.00      1.00     45490\n",
      "           1       0.90      0.81      0.85        79\n",
      "\n",
      "    accuracy                           1.00     45569\n",
      "   macro avg       0.95      0.90      0.93     45569\n",
      "weighted avg       1.00      1.00      1.00     45569\n",
      "\n",
      "🏃 View run Fold_5 at: http://127.0.0.1:5000/#/experiments/2/runs/0b5a0f1ff55f473c98ddb8da7a32acab\n",
      "🧪 View experiment at: http://127.0.0.1:5000/#/experiments/2\n",
      "\n",
      "=== Gennemsnitlig performance over 5 folds ===\n",
      "Gns. Precision: 0.8878\n",
      "Gns. Recall:    0.8123\n",
      "Gns. F1-score:  0.8473\n",
      "\n",
      "=== Endelig evaluering på test-sæt ===\n",
      "Confusion Matrix:\n",
      "[[56847    17]\n",
      " [   17    81]]\n",
      "Precision: 0.8265\n",
      "Recall:    0.8265\n",
      "F1-score:  0.8265\n",
      "Classification report:\n",
      "              precision    recall  f1-score   support\n",
      "\n",
      "           0       1.00      1.00      1.00     56864\n",
      "           1       0.83      0.83      0.83        98\n",
      "\n",
      "    accuracy                           1.00     56962\n",
      "   macro avg       0.91      0.91      0.91     56962\n",
      "weighted avg       1.00      1.00      1.00     56962\n",
      "\n"
     ]
    },
    {
     "name": "stderr",
     "output_type": "stream",
     "text": [
      "2025/07/14 18:57:27 WARNING mlflow.models.model: `artifact_path` is deprecated. Please use `name` instead.\n",
      "2025/07/14 18:57:30 WARNING mlflow.models.model: Model logged without a signature and input example. Please set `input_example` parameter when logging the model to auto infer the model signature.\n",
      "Successfully registered model 'creditcard_rf_model'.\n",
      "2025/07/14 18:57:31 INFO mlflow.store.model_registry.abstract_store: Waiting up to 300 seconds for model version to finish creation. Model name: creditcard_rf_model, version 1\n",
      "Created version '1' of model 'creditcard_rf_model'.\n"
     ]
    },
    {
     "name": "stdout",
     "output_type": "stream",
     "text": [
      "🏃 View run Final_model_training at: http://127.0.0.1:5000/#/experiments/2/runs/992de3d0d8dc4f7d96cdf50a6150f6ab\n",
      "🧪 View experiment at: http://127.0.0.1:5000/#/experiments/2\n"
     ]
    }
   ],
   "source": [
    "import pandas as pd\n",
    "from sklearn.ensemble import RandomForestClassifier\n",
    "from sklearn.model_selection import StratifiedKFold, train_test_split\n",
    "from sklearn.metrics import precision_score, recall_score, f1_score, confusion_matrix, classification_report\n",
    "from imblearn.over_sampling import SMOTE\n",
    "import mlflow\n",
    "import mlflow.sklearn\n",
    "\n",
    "\n",
    "# MLflow config\n",
    "mlflow.set_tracking_uri(\"http://127.0.0.1:5000\")  # eller din serveradresse\n",
    "mlflow.set_experiment(\"creditcard_fraud_detection\")\n",
    "\n",
    "# Load data\n",
    "data_path = r\"C:\\Job_og_eksamensbevis\\Github\\projekter\\RF_project\\data\\creditcard.csv\"\n",
    "df = pd.read_csv(data_path)\n",
    "\n",
    "X = df.drop('Class', axis=1)\n",
    "y = df['Class']\n",
    "\n",
    "X_train_val, X_test, y_train_val, y_test = train_test_split(\n",
    "    X, y, test_size=0.2, stratify=y, random_state=42)\n",
    "\n",
    "skf = StratifiedKFold(n_splits=5, shuffle=True, random_state=42)\n",
    "\n",
    "precisions = []\n",
    "recalls = []\n",
    "f1s = []\n",
    "\n",
    "# === CV TRÆNING + MLflow logging ===\n",
    "for fold, (train_idx, val_idx) in enumerate(skf.split(X_train_val, y_train_val), 1):\n",
    "    X_train, X_val = X_train_val.iloc[train_idx], X_train_val.iloc[val_idx]\n",
    "    y_train, y_val = y_train_val.iloc[train_idx], y_train_val.iloc[val_idx]\n",
    "\n",
    "    smote = SMOTE(random_state=42)\n",
    "    X_train_resampled, y_train_resampled = smote.fit_resample(X_train, y_train)\n",
    "\n",
    "    rf = RandomForestClassifier(\n",
    "        n_estimators=100,\n",
    "        random_state=42,\n",
    "        n_jobs=-1\n",
    "    )\n",
    "\n",
    "    rf.fit(X_train_resampled, y_train_resampled)\n",
    "    y_val_pred = rf.predict(X_val)\n",
    "\n",
    "    precision = precision_score(y_val, y_val_pred)\n",
    "    recall = recall_score(y_val, y_val_pred)\n",
    "    f1 = f1_score(y_val, y_val_pred)\n",
    "\n",
    "    precisions.append(precision)\n",
    "    recalls.append(recall)\n",
    "    f1s.append(f1)\n",
    "\n",
    "    # MLflow logging for fold\n",
    "    with mlflow.start_run(run_name=f\"Fold_{fold}\"):\n",
    "        mlflow.log_param(\"n_estimators\", 100)\n",
    "        mlflow.log_param(\"sampler\", \"SMOTE\")\n",
    "        mlflow.log_param(\"fold\", fold)\n",
    "\n",
    "        mlflow.log_metric(\"precision\", precision)\n",
    "        mlflow.log_metric(\"recall\", recall)\n",
    "        mlflow.log_metric(\"f1_score\", f1)\n",
    "\n",
    "        mlflow.sklearn.log_model(rf, f\"rf_model_fold_{fold}\")\n",
    "\n",
    "        print(f\"\\nFold {fold}:\")\n",
    "        print(\"Confusion Matrix:\")\n",
    "        print(confusion_matrix(y_val, y_val_pred))\n",
    "        print(f\"Precision: {precision:.4f}\")\n",
    "        print(f\"Recall:    {recall:.4f}\")\n",
    "        print(f\"F1-score:  {f1:.4f}\")\n",
    "        print(\"Classification report:\")\n",
    "        print(classification_report(y_val, y_val_pred))\n",
    "\n",
    "print(\"\\n=== Gennemsnitlig performance over 5 folds ===\")\n",
    "print(f\"Gns. Precision: {sum(precisions)/len(precisions):.4f}\")\n",
    "print(f\"Gns. Recall:    {sum(recalls)/len(recalls):.4f}\")\n",
    "print(f\"Gns. F1-score:  {sum(f1s)/len(f1s):.4f}\")\n",
    "\n"
   ]
  },
  {
   "cell_type": "code",
   "execution_count": 4,
   "id": "d7af2db3",
   "metadata": {},
   "outputs": [
    {
     "name": "stderr",
     "output_type": "stream",
     "text": [
      "c:\\Users\\jeppe\\anaconda3\\a3\\envs\\ml-env\\lib\\site-packages\\sklearn\\base.py:474: FutureWarning: `BaseEstimator._validate_data` is deprecated in 1.6 and will be removed in 1.7. Use `sklearn.utils.validation.validate_data` instead. This function becomes public and is part of the scikit-learn developer API.\n",
      "  warnings.warn(\n"
     ]
    },
    {
     "name": "stdout",
     "output_type": "stream",
     "text": [
      "\n",
      "=== Endelig evaluering på test-sæt ===\n",
      "Confusion Matrix:\n",
      "[[56847    17]\n",
      " [   17    81]]\n",
      "Precision: 0.8265\n",
      "Recall:    0.8265\n",
      "F1-score:  0.8265\n",
      "Classification report:\n",
      "              precision    recall  f1-score   support\n",
      "\n",
      "           0       1.00      1.00      1.00     56864\n",
      "           1       0.83      0.83      0.83        98\n",
      "\n",
      "    accuracy                           1.00     56962\n",
      "   macro avg       0.91      0.91      0.91     56962\n",
      "weighted avg       1.00      1.00      1.00     56962\n",
      "\n"
     ]
    },
    {
     "name": "stderr",
     "output_type": "stream",
     "text": [
      "2025/07/14 19:19:22 WARNING mlflow.models.model: `artifact_path` is deprecated. Please use `name` instead.\n",
      "2025/07/14 19:19:26 WARNING mlflow.models.model: Model logged without a signature and input example. Please set `input_example` parameter when logging the model to auto infer the model signature.\n"
     ]
    },
    {
     "name": "stdout",
     "output_type": "stream",
     "text": [
      "🏃 View run Final_model_training at: http://127.0.0.1:5000/#/experiments/2/runs/208c8b6e5eb74a8980f20727e5883a58\n",
      "🧪 View experiment at: http://127.0.0.1:5000/#/experiments/2\n"
     ]
    }
   ],
   "source": [
    "# === Final model  ===\n",
    "\n",
    "smote = SMOTE(random_state=42)\n",
    "X_train_val_resampled, y_train_val_resampled = smote.fit_resample(X_train_val, y_train_val)\n",
    "\n",
    "final_rf = RandomForestClassifier(n_estimators=100, random_state=42, n_jobs=-1)\n",
    "final_rf.fit(X_train_val_resampled, y_train_val_resampled)\n",
    "\n",
    "y_test_pred = final_rf.predict(X_test)\n",
    "\n",
    "precision = precision_score(y_test, y_test_pred)\n",
    "recall = recall_score(y_test, y_test_pred)\n",
    "f1 = f1_score(y_test, y_test_pred)\n",
    "\n",
    "print(\"\\n=== Endelig evaluering på test-sæt ===\")\n",
    "print(\"Confusion Matrix:\")\n",
    "print(confusion_matrix(y_test, y_test_pred))\n",
    "print(f\"Precision: {precision:.4f}\")\n",
    "print(f\"Recall:    {recall:.4f}\")\n",
    "print(f\"F1-score:  {f1:.4f}\")\n",
    "print(\"Classification report:\")\n",
    "print(classification_report(y_test, y_test_pred))\n",
    "\n",
    "\n",
    "with mlflow.start_run(run_name=\"Final_model_training\"):\n",
    "    mlflow.log_param(\"n_estimators\", 100)\n",
    "    mlflow.log_param(\"sampler\", \"SMOTE\")\n",
    "    mlflow.log_param(\"model_type\", \"RandomForest\")\n",
    "\n",
    "    mlflow.log_metric(\"precision\", precision)\n",
    "    mlflow.log_metric(\"recall\", recall)\n",
    "    mlflow.log_metric(\"f1_score\", f1)\n",
    "\n",
    "    # Her logger vi modellen KUN som artifact – uden at registrere den i MLflow Model Registry\n",
    "    mlflow.sklearn.log_model(\n",
    "        sk_model=final_rf,\n",
    "        artifact_path=\"model\"\n",
    "    )"
   ]
  },
  {
   "cell_type": "code",
   "execution_count": null,
   "id": "66596494",
   "metadata": {},
   "outputs": [],
   "source": [
    "# tilføj navn til den model jeg vil registrere (tilføj challenger eller champion i alias)\n",
    "model_name = \"RF-SMOTE\"\n",
    "run_id = input(\"Indtast run-id: \")\n",
    "model_uri = f\"runs:/{run_id}/\"{model_name}\n",
    "result = mlflow.register_model(\n",
    "    model_uri, model_name\n",
    ")"
   ]
  }
 ],
 "metadata": {
  "kernelspec": {
   "display_name": "ml-env",
   "language": "python",
   "name": "python3"
  },
  "language_info": {
   "codemirror_mode": {
    "name": "ipython",
    "version": 3
   },
   "file_extension": ".py",
   "mimetype": "text/x-python",
   "name": "python",
   "nbconvert_exporter": "python",
   "pygments_lexer": "ipython3",
   "version": "3.9.23"
  }
 },
 "nbformat": 4,
 "nbformat_minor": 5
}
