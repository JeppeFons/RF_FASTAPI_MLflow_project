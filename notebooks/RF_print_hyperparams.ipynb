{
 "cells": [
  {
   "cell_type": "code",
   "execution_count": null,
   "id": "7e358b30",
   "metadata": {},
   "outputs": [
    {
     "name": "stdout",
     "output_type": "stream",
     "text": [
      "Fitting 5 folds for each of 4 candidates, totalling 20 fits\n"
     ]
    }
   ],
   "source": [
    "import os\n",
    "import pandas as pd\n",
    "import matplotlib.pyplot as plt\n",
    "import seaborn as sns\n",
    "from sklearn.ensemble import RandomForestClassifier\n",
    "from sklearn.model_selection import train_test_split, StratifiedKFold, GridSearchCV\n",
    "from sklearn.metrics import precision_score, recall_score, f1_score, confusion_matrix, classification_report\n",
    "from imblearn.pipeline import Pipeline\n",
    "from imblearn.over_sampling import SMOTE\n",
    "import mlflow\n",
    "import mlflow.sklearn\n",
    "\n",
    "# === Output-mappe ===\n",
    "output_dir = \"outputs\"\n",
    "os.makedirs(output_dir, exist_ok=True)\n",
    "\n",
    "# === MLflow setup ===\n",
    "mlflow.set_tracking_uri(\"http://127.0.0.1:5000\")\n",
    "mlflow.set_experiment(\"fraud_detection_hyperparameter_tuning\")\n",
    "\n",
    "# === Load data ===\n",
    "data_path = r\"C:\\Job_og_eksamensbevis\\Github\\projekter\\RF_project\\data\\creditcard_preprocessed.csv\"\n",
    "df = pd.read_csv(data_path)\n",
    "X = df.drop('Class', axis=1)\n",
    "y = df['Class']\n",
    "\n",
    "X_train_val, X_test, y_train_val, y_test = train_test_split(\n",
    "    X, y, test_size=0.2, stratify=y, random_state=42)\n",
    "\n",
    "# === Pipeline med SMOTE + RandomForest ===\n",
    "pipeline = Pipeline([\n",
    "    ('smote', SMOTE(random_state=42)),\n",
    "    ('rf', RandomForestClassifier(random_state=42, n_jobs=-1))\n",
    "])\n",
    "\n",
    "# === Grid af hyperparametre ===\n",
    "param_grid = {\n",
    "    'rf__n_estimators': [150], # 50 - 200\n",
    "    'rf__max_depth': [None], # 10, 20, None\n",
    "    'rf__min_samples_split': [2, 6], # 2-6\n",
    "    'rf__min_samples_leaf': [1, 2],\n",
    "    'rf__max_features': ['sqrt']\n",
    "}\n",
    "\n",
    "# === Stratified K-Fold ===\n",
    "skf = StratifiedKFold(n_splits=5, shuffle=True, random_state=42)\n",
    "\n",
    "# === GridSearchCV ===\n",
    "grid_search = GridSearchCV(\n",
    "    estimator=pipeline,\n",
    "    param_grid=param_grid,\n",
    "    scoring='f1',\n",
    "    cv=skf,\n",
    "    verbose=2,\n",
    "    n_jobs=-1,\n",
    "    return_train_score=True\n",
    ")\n",
    "\n",
    "# === Fit model ===\n",
    "grid_search.fit(X_train_val, y_train_val)\n",
    "\n",
    "# === Gem bedste parametre og CV-score ===\n",
    "best_params = grid_search.best_params_\n",
    "best_cv_score = grid_search.best_score_\n",
    "\n",
    "with open(os.path.join(output_dir, \"best_model_info.txt\"), \"w\") as f:\n",
    "    f.write(\"Best Hyperparameters:\\n\")\n",
    "    f.write(str(best_params) + \"\\n\\n\")\n",
    "    f.write(f\"Best Cross-Validated F1-score: {best_cv_score:.4f}\\n\")\n",
    "\n",
    "# === MLflow log af bedste model ===\n",
    "with mlflow.start_run(run_name=\"Best_GridSearch_Model\"):\n",
    "    mlflow.log_params(best_params)\n",
    "    mlflow.log_metric(\"best_cv_f1\", best_cv_score)\n",
    "    mlflow.sklearn.log_model(grid_search.best_estimator_, artifact_path=\"best_rf_model\")\n",
    "\n",
    "# === Evaluering på test-sæt ===\n",
    "best_model = grid_search.best_estimator_\n",
    "y_test_pred = best_model.predict(X_test)\n",
    "\n",
    "precision = precision_score(y_test, y_test_pred)\n",
    "recall = recall_score(y_test, y_test_pred)\n",
    "f1 = f1_score(y_test, y_test_pred)\n",
    "clf_report = classification_report(y_test, y_test_pred)\n",
    "cm = confusion_matrix(y_test, y_test_pred)\n",
    "\n",
    "# === Gem performance metrics som tekst ===\n",
    "with open(os.path.join(output_dir, \"test_set_results.txt\"), \"w\") as f:\n",
    "    f.write(\"=== Final Evaluation on Test Set ===\\n\")\n",
    "    f.write(f\"Precision: {precision:.4f}\\n\")\n",
    "    f.write(f\"Recall:    {recall:.4f}\\n\")\n",
    "    f.write(f\"F1-score:  {f1:.4f}\\n\\n\")\n",
    "    f.write(\"Classification Report:\\n\")\n",
    "    f.write(clf_report + \"\\n\")\n",
    "\n",
    "# === Gem confusion matrix som billede ===\n",
    "plt.figure(figsize=(6, 4))\n",
    "sns.heatmap(cm, annot=True, fmt='d', cmap='Blues',\n",
    "            xticklabels=['Not Fraud', 'Fraud'],\n",
    "            yticklabels=['Not Fraud', 'Fraud'])\n",
    "plt.title(\"Confusion Matrix\")\n",
    "plt.xlabel(\"Predicted\")\n",
    "plt.ylabel(\"Actual\")\n",
    "plt.tight_layout()\n",
    "plt.savefig(os.path.join(output_dir, \"confusion_matrix.png\"))\n",
    "plt.close()\n",
    "\n",
    "# === MLflow log af test-performance ===\n",
    "with mlflow.start_run(run_name=\"Final_model_evaluation\"):\n",
    "    mlflow.log_metric(\"test_precision\", precision)\n",
    "    mlflow.log_metric(\"test_recall\", recall)\n",
    "    mlflow.log_metric(\"test_f1_score\", f1)\n",
    "    mlflow.sklearn.log_model(best_model, artifact_path=\"final_rf_model\")\n"
   ]
  },
  {
   "cell_type": "code",
   "execution_count": 2,
   "id": "bf4a8954",
   "metadata": {},
   "outputs": [
    {
     "name": "stderr",
     "output_type": "stream",
     "text": [
      "Registered model 'Final_model_evaluation' already exists. Creating a new version of this model...\n",
      "2025/07/15 14:02:49 WARNING mlflow.tracking._model_registry.fluent: Run with id 261625da33554440bac00f10cfdb71f3 has no artifacts at artifact path 'final_rf_model', registering model based on models:/m-f5a8f6307e834e63a3de30f291b265ff instead\n",
      "2025/07/15 14:02:49 INFO mlflow.store.model_registry.abstract_store: Waiting up to 300 seconds for model version to finish creation. Model name: Final_model_evaluation, version 2\n"
     ]
    },
    {
     "name": "stdout",
     "output_type": "stream",
     "text": [
      "🏃 View run Final_model_evaluation at: http://127.0.0.1:5000/#/experiments/4/runs/261625da33554440bac00f10cfdb71f3\n",
      "🧪 View experiment at: http://127.0.0.1:5000/#/experiments/4\n"
     ]
    },
    {
     "name": "stderr",
     "output_type": "stream",
     "text": [
      "Created version '2' of model 'Final_model_evaluation'.\n"
     ]
    }
   ],
   "source": [
    "# tilføj navn til den model jeg vil registrere (tilføj challenger eller champion i alias)\n",
    "model_name = 'Final_model_evaluation'\n",
    "run_id=input('Please type RunID')\n",
    "model_uri = f'runs:/{run_id}/final_rf_model'\n",
    "\n",
    "with mlflow.start_run(run_id=run_id):\n",
    "    mlflow.register_model(model_uri=model_uri, name=model_name)"
   ]
  }
 ],
 "metadata": {
  "kernelspec": {
   "display_name": "ml-env",
   "language": "python",
   "name": "python3"
  },
  "language_info": {
   "codemirror_mode": {
    "name": "ipython",
    "version": 3
   },
   "file_extension": ".py",
   "mimetype": "text/x-python",
   "name": "python",
   "nbconvert_exporter": "python",
   "pygments_lexer": "ipython3",
   "version": "3.9.23"
  }
 },
 "nbformat": 4,
 "nbformat_minor": 5
}
